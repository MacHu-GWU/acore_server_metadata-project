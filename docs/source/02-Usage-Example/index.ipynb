{
 "cells": [
  {
   "cell_type": "raw",
   "id": "3b78e5e9-1168-456e-a051-1eac3c1e580d",
   "metadata": {
    "editable": true,
    "raw_mimetype": "text/restructuredtext",
    "slideshow": {
     "slide_type": ""
    },
    "tags": []
   },
   "source": [
    ".. _usage-example:\n",
    "\n",
    "Usage Example\n",
    "================================================================================"
   ]
  },
  {
   "cell_type": "code",
   "execution_count": 1,
   "id": "295274ce-ac54-4193-8c00-c4fde6579552",
   "metadata": {
    "ExecuteTime": {
     "end_time": "2024-06-14T20:58:59.184207Z",
     "start_time": "2024-06-14T20:58:58.957797Z"
    },
    "editable": true,
    "slideshow": {
     "slide_type": ""
    },
    "tags": []
   },
   "outputs": [],
   "source": [
    "import boto3\n",
    "from rich import print as rprint\n",
    "import acore_server_metadata.api as acore_server_metadata\n",
    "\n",
    "boto_ses = boto3.session.Session(profile_name=\"bmt_app_dev_us_east_1\")\n",
    "ec2_client = boto_ses.client(\"ec2\")\n",
    "rds_client = boto_ses.client(\"rds\")"
   ]
  },
  {
   "cell_type": "markdown",
   "id": "c4274f48b9793e41",
   "metadata": {
    "collapsed": false,
    "editable": true,
    "jupyter": {
     "outputs_hidden": false
    },
    "slideshow": {
     "slide_type": ""
    },
    "tags": []
   },
   "source": [
    "## 获取服务器对象"
   ]
  },
  {
   "cell_type": "raw",
   "id": "943fd26c-5e63-4ff4-acb7-eae3b73ef121",
   "metadata": {
    "editable": true,
    "raw_mimetype": "text/restructuredtext",
    "slideshow": {
     "slide_type": ""
    },
    "tags": []
   },
   "source": [
    "我们可以用全局唯一的 ``server_name`` 来获取 :class:`~acore_server_metadata.server.server.Server` 对象 (server_name 的概念请参考 :ref:`environment-name-and-server-name`). 获得了 ``Server`` 对象之后就可以调用它的方法来获取服务器信息, 以及对其进行操作了."
   ]
  },
  {
   "cell_type": "code",
   "execution_count": null,
   "id": "ad669a774dc5df77",
   "metadata": {
    "ExecuteTime": {
     "end_time": "2024-06-14T20:59:26.676419Z",
     "start_time": "2024-06-14T20:59:26.404604Z"
    },
    "collapsed": false,
    "editable": true,
    "jupyter": {
     "outputs_hidden": false
    },
    "slideshow": {
     "slide_type": ""
    },
    "tags": []
   },
   "outputs": [],
   "source": [
    "sbx_green_server = acore_server_metadata.Server.get_server(\"sbx-green\", ec2_client, rds_client)"
   ]
  },
  {
   "cell_type": "code",
   "execution_count": null,
   "id": "1b9f493e9073a529",
   "metadata": {
    "collapsed": false,
    "editable": true,
    "jupyter": {
     "outputs_hidden": false
    },
    "slideshow": {
     "slide_type": ""
    },
    "tags": []
   },
   "outputs": [],
   "source": [
    "# 如果你的运行环境是在 EC2 里面, 你还可以用这个 API 自己通过检查自己所在的环境获知服务器信息\n",
    "# acore_server_metadata.Server.from_ec2_inside()"
   ]
  },
  {
   "cell_type": "markdown",
   "id": "61c215b31aea0e47",
   "metadata": {
    "collapsed": false,
    "editable": true,
    "jupyter": {
     "outputs_hidden": false
    },
    "slideshow": {
     "slide_type": ""
    },
    "tags": []
   },
   "source": [
    "## 获取服务器的基本信息\n",
    "\n",
    "例如我们可以获得 EC2 和 RDS 的 ID, 以及它们的运行状态. 我们甚至还可以获得游戏服务器的状态, 在线人数等信息. 这些信息是由一个在 EC2 上不断运行的 [守护程序](https://github.com/MacHu-GWU/acore_server_bootstrap-project/blob/main/acore_server_bootstrap/actions/s3_check_server_status/server_monitor.sh) 不断查询游戏数据库信息获得并写入到 EC2 Tag 中的. 我们调用 ``server_lifecycle`` 等属性本质上就是去查询 EC2 Tag 中的信息而已."
   ]
  },
  {
   "cell_type": "code",
   "execution_count": 6,
   "id": "9c648a38dd639c3e",
   "metadata": {
    "ExecuteTime": {
     "end_time": "2024-06-14T21:00:48.503676Z",
     "start_time": "2024-06-14T21:00:48.500490Z"
    },
    "collapsed": false,
    "editable": true,
    "jupyter": {
     "outputs_hidden": false
    },
    "slideshow": {
     "slide_type": ""
    },
    "tags": []
   },
   "outputs": [
    {
     "name": "stdout",
     "output_type": "stream",
     "text": [
      "sbx_green_server.id = 'sbx-green'\n",
      "sbx_green_server.ec2_inst.id = 'i-043cd58afbc720a48'\n",
      "sbx_green_server.ec2_inst.status = 'running'\n",
      "sbx_green_server.rds_inst.id = 'sbx-green'\n",
      "sbx_green_server.rds_inst.status = 'available'\n",
      "sbx_green_server.server_lifecycle = None\n",
      "sbx_green_server.wow_status = '0 players'\n",
      "sbx_green_server.wow_status_measure_time = datetime.datetime(2024, 6, 14, 20, 59, 21, 10695, tzinfo=datetime.timezone.utc)\n"
     ]
    }
   ],
   "source": [
    "print(f\"{sbx_green_server.id = }\")\n",
    "print(f\"{sbx_green_server.ec2_inst.id = }\")\n",
    "print(f\"{sbx_green_server.ec2_inst.status = }\")\n",
    "print(f\"{sbx_green_server.rds_inst.id = }\")\n",
    "print(f\"{sbx_green_server.rds_inst.status = }\")\n",
    "print(f\"{sbx_green_server.server_lifecycle = }\")\n",
    "print(f\"{sbx_green_server.wow_status = }\")\n",
    "print(f\"{sbx_green_server.wow_status_measure_time = }\")"
   ]
  },
  {
   "cell_type": "markdown",
   "id": "5ce0bb1229cfc5ba",
   "metadata": {
    "collapsed": false,
    "jupyter": {
     "outputs_hidden": false
    }
   },
   "source": [
    "## 获取服务器的状态\n",
    "\n",
    "- exists: 指的是服务器存不存在, 如果 EC2 和 RDS 任意一个不存在就视为不存在.\n",
    "- running: 指的是服务器是否在运行中, 如果 EC2 和 RDS 任意一个不是 running 就视为不在运行中."
   ]
  },
  {
   "cell_type": "code",
   "execution_count": 8,
   "id": "c98c8bcd474a83fc",
   "metadata": {
    "ExecuteTime": {
     "end_time": "2024-06-14T21:04:08.760553Z",
     "start_time": "2024-06-14T21:04:08.756711Z"
    },
    "collapsed": false,
    "jupyter": {
     "outputs_hidden": false
    }
   },
   "outputs": [
    {
     "name": "stdout",
     "output_type": "stream",
     "text": [
      "sbx_green_server.is_exists() = True\n",
      "sbx_green_server.is_running() = True\n",
      "sbx_green_server.is_ec2_exists() = True\n",
      "sbx_green_server.is_ec2_running() = True\n",
      "sbx_green_server.is_rds_exists() = True\n",
      "sbx_green_server.is_rds_running() = True\n"
     ]
    }
   ],
   "source": [
    "print(f\"{sbx_green_server.is_exists() = }\")\n",
    "print(f\"{sbx_green_server.is_running() = }\")\n",
    "print(f\"{sbx_green_server.is_ec2_exists() = }\")\n",
    "print(f\"{sbx_green_server.is_ec2_running() = }\")\n",
    "print(f\"{sbx_green_server.is_rds_exists() = }\")\n",
    "print(f\"{sbx_green_server.is_rds_running() = }\")"
   ]
  },
  {
   "cell_type": "markdown",
   "id": "64a17fdc17a07cef",
   "metadata": {
    "collapsed": false,
    "jupyter": {
     "outputs_hidden": false
    }
   },
   "source": [
    "## 重新获取服务器的状态\n",
    "\n",
    "你可以用 ``.refresh()`` 方法重新获取服务器的状态."
   ]
  },
  {
   "cell_type": "code",
   "execution_count": 10,
   "id": "d8cb122ee31604bc",
   "metadata": {
    "ExecuteTime": {
     "end_time": "2024-06-14T21:04:39.717309Z",
     "start_time": "2024-06-14T21:04:39.209126Z"
    },
    "collapsed": false,
    "jupyter": {
     "outputs_hidden": false
    }
   },
   "outputs": [],
   "source": [
    "sbx_green_server.refresh(ec2_client, rds_client)"
   ]
  },
  {
   "cell_type": "markdown",
   "id": "3032187d00dd2e32",
   "metadata": {
    "collapsed": false,
    "editable": true,
    "jupyter": {
     "outputs_hidden": false
    },
    "slideshow": {
     "slide_type": ""
    },
    "tags": []
   },
   "source": [
    "## 批量获取服务器的对象\n",
    "\n",
    "``.batch_get_server`` 方法进行了一些优化, 可以减少 AWS API 调用次数."
   ]
  },
  {
   "cell_type": "code",
   "execution_count": 13,
   "id": "510dd827b9a93476",
   "metadata": {
    "ExecuteTime": {
     "end_time": "2024-06-14T21:06:57.115165Z",
     "start_time": "2024-06-14T21:06:56.832699Z"
    },
    "collapsed": false,
    "editable": true,
    "jupyter": {
     "outputs_hidden": false
    },
    "slideshow": {
     "slide_type": ""
    },
    "tags": []
   },
   "outputs": [
    {
     "data": {
      "text/html": [
       "<pre style=\"white-space:pre;overflow-x:auto;line-height:normal;font-family:Menlo,'DejaVu Sans Mono',consolas,'Courier New',monospace\">server_id = <span style=\"color: #008000; text-decoration-color: #008000\">'sbx-green'</span>, <span style=\"color: #800080; text-decoration-color: #800080; font-weight: bold\">server.is_running</span><span style=\"font-weight: bold\">()</span> = <span style=\"color: #00ff00; text-decoration-color: #00ff00; font-style: italic\">True</span>\n",
       "</pre>\n"
      ],
      "text/plain": [
       "server_id = \u001b[32m'sbx-green'\u001b[0m, \u001b[1;35mserver.is_running\u001b[0m\u001b[1m(\u001b[0m\u001b[1m)\u001b[0m = \u001b[3;92mTrue\u001b[0m\n"
      ]
     },
     "metadata": {},
     "output_type": "display_data"
    }
   ],
   "source": [
    "server_mapper = acore_server_metadata.Server.batch_get_server(\n",
    "    ids=[\"sbx-green\"],\n",
    "    ec2_client=ec2_client,\n",
    "    rds_client=rds_client,\n",
    ")\n",
    "for server_id, server in server_mapper.items():\n",
    "    rprint(f\"{server_id = }, {server.is_running() = }\") "
   ]
  },
  {
   "cell_type": "markdown",
   "id": "9ff49bca4b047402",
   "metadata": {
    "collapsed": false,
    "jupyter": {
     "outputs_hidden": false
    }
   },
   "source": [
    "## 对服务器进行操作"
   ]
  },
  {
   "cell_type": "code",
   "execution_count": 14,
   "id": "13a0d3cba2b1a029",
   "metadata": {
    "ExecuteTime": {
     "end_time": "2024-06-14T21:08:18.700060Z",
     "start_time": "2024-06-14T21:08:18.697302Z"
    },
    "collapsed": false,
    "jupyter": {
     "outputs_hidden": false
    }
   },
   "outputs": [],
   "source": [
    "# 创建新的 server 对象\n",
    "server = acore_server_metadata.Server(id=\"sbx-green\")"
   ]
  },
  {
   "cell_type": "raw",
   "id": "dce8a154-8962-483d-9497-a2963f99c8a4",
   "metadata": {
    "collapsed": false,
    "editable": true,
    "jupyter": {
     "outputs_hidden": false
    },
    "raw_mimetype": "text/restructuredtext",
    "slideshow": {
     "slide_type": ""
    },
    "tags": []
   },
   "source": [
    "创建一个新的 EC2 Instance\n",
    "--------------------------------------------------------------------------------\n",
    ":meth:`Server.run_ec2 <acore_server_metadata.server.server_operation.ServerOperationMixin.run_ec2>`"
   ]
  },
  {
   "cell_type": "raw",
   "id": "f136f0ec-169f-4038-a680-6037df7256f4",
   "metadata": {
    "collapsed": false,
    "editable": true,
    "jupyter": {
     "outputs_hidden": false
    },
    "raw_mimetype": "text/restructuredtext",
    "slideshow": {
     "slide_type": ""
    },
    "tags": []
   },
   "source": [
    "创建一个新的 RDS Instance\n",
    "--------------------------------------------------------------------------------\n",
    ":meth:`Server.run_rds <acore_server_metadata.server.server_operation.ServerOperationMixin.run_rds>`\n",
    "\n",
    "注: 这个方法只能运行新的 RDS 实例, 而不能从 Snapshot 中恢复实例."
   ]
  },
  {
   "cell_type": "raw",
   "id": "22c9b10b-dab7-4dfa-8679-a0e059a2a998",
   "metadata": {
    "collapsed": false,
    "editable": true,
    "jupyter": {
     "outputs_hidden": false
    },
    "raw_mimetype": "text/restructuredtext",
    "slideshow": {
     "slide_type": ""
    },
    "tags": []
   },
   "source": [
    "启动一个已经处于停止状态的游戏服务器\n",
    "--------------------------------------------------------------------------------\n",
    ":meth:`Server.start_server <acore_server_metadata.server.server_operation.ServerOperationMixin.start_server>`\n",
    "\n",
    ".. info::\n",
    "\n",
    "    这个方法会先尝试启动 RDS. 等 RDS 完全准备好了以后再启动 EC2. EC2 一旦启动完成, cloud-init 会运行一个我们设定好的 Shell Script 脚本自动做一些前期工作并启动游戏服务器. 这个重启 EC2 自动运行游戏服务器的实现方法请参考\n",
    " `acore_server_bootstrap 中的这段代码 <https://github.com/MacHu-GWU/acore_server_bootstrap-project/blob/main/acore_server_bootstrap/actions/s0_configure_ubuntu/impl.py#L43>`_"
   ]
  },
  {
   "cell_type": "raw",
   "id": "0335d9ac-e1de-4fd5-8656-24b8149ded66",
   "metadata": {
    "collapsed": false,
    "editable": true,
    "jupyter": {
     "outputs_hidden": false
    },
    "raw_mimetype": "text/restructuredtext",
    "slideshow": {
     "slide_type": ""
    },
    "tags": []
   },
   "source": [
    "启动已经停止的 EC2 Instance\n",
    "--------------------------------------------------------------------------------\n",
    ":meth:`Server.start_ec2 <acore_server_metadata.server.server_operation.ServerOperationMixin.start_ec2>`"
   ]
  },
  {
   "cell_type": "raw",
   "id": "45c54153-0dbc-420b-82db-e77b91b299be",
   "metadata": {
    "collapsed": false,
    "editable": true,
    "jupyter": {
     "outputs_hidden": false
    },
    "raw_mimetype": "text/restructuredtext",
    "slideshow": {
     "slide_type": ""
    },
    "tags": []
   },
   "source": [
    "启动已经停止的 RDS Instance\n",
    "--------------------------------------------------------------------------------\n",
    ":meth:`Server.start_rds <acore_server_metadata.server.server_operation.ServerOperationMixin.start_rds>`"
   ]
  },
  {
   "cell_type": "raw",
   "id": "177d5d63-43f9-4ca2-806f-faa6a175849b",
   "metadata": {
    "collapsed": false,
    "editable": true,
    "jupyter": {
     "outputs_hidden": false
    },
    "raw_mimetype": "text/restructuredtext",
    "slideshow": {
     "slide_type": ""
    },
    "tags": []
   },
   "source": [
    "停止 EC2 Instance\n",
    "--------------------------------------------------------------------------------\n",
    ":meth:`Server.stop_ec2 <acore_server_metadata.server.server_operation.ServerOperationMixin.stop_ec2>`"
   ]
  },
  {
   "cell_type": "raw",
   "id": "a7189683-f287-49a7-99c9-f006974f26e0",
   "metadata": {
    "collapsed": false,
    "editable": true,
    "jupyter": {
     "outputs_hidden": false
    },
    "raw_mimetype": "text/restructuredtext",
    "slideshow": {
     "slide_type": ""
    },
    "tags": []
   },
   "source": [
    "停止 RDS Instance\n",
    "--------------------------------------------------------------------------------\n",
    ":meth:`Server.stop_rds <acore_server_metadata.server.server_operation.ServerOperationMixin.stop_rds>`"
   ]
  },
  {
   "cell_type": "raw",
   "id": "4ef5670d-7b86-4a95-8548-e773ad967216",
   "metadata": {
    "collapsed": false,
    "editable": true,
    "jupyter": {
     "outputs_hidden": false
    },
    "raw_mimetype": "text/restructuredtext",
    "slideshow": {
     "slide_type": ""
    },
    "tags": []
   },
   "source": [
    "停止 EC2 Instance\n",
    "--------------------------------------------------------------------------------\n",
    ":meth:`Server.stop_ec2 <acore_server_metadata.server.server_operation.ServerOperationMixin.stop_ec2>`"
   ]
  },
  {
   "cell_type": "raw",
   "id": "2d64b4f3-765a-4882-8408-cbc6aab504b1",
   "metadata": {
    "editable": true,
    "raw_mimetype": "text/restructuredtext",
    "slideshow": {
     "slide_type": ""
    },
    "tags": []
   },
   "source": [
    "永久删除 EC2 Instance\n",
    "--------------------------------------------------------------------------------\n",
    ":meth:`Server.delete_ec2 <acore_server_metadata.server.server_operation.ServerOperationMixin.delete_ec2>`"
   ]
  },
  {
   "cell_type": "raw",
   "id": "28f712dd-a0a9-46a4-a9db-5bcdd4c79d19",
   "metadata": {
    "editable": true,
    "raw_mimetype": "text/restructuredtext",
    "slideshow": {
     "slide_type": ""
    },
    "tags": []
   },
   "source": [
    "永久删除 RDS Instance\n",
    "--------------------------------------------------------------------------------\n",
    ":meth:`Server.delete_rds <acore_server_metadata.server.server_operation.ServerOperationMixin.delete_rds>`"
   ]
  },
  {
   "cell_type": "raw",
   "id": "9ce92dc0-ddf3-4567-9517-c7ece0f69f25",
   "metadata": {
    "editable": true,
    "raw_mimetype": "text/restructuredtext",
    "slideshow": {
     "slide_type": ""
    },
    "tags": []
   },
   "source": [
    "给游戏服务器的 EC2 关联一个新的 EIP 地址\n",
    "--------------------------------------------------------------------------------\n",
    ":meth:`Server.associate_eip_address <acore_server_metadata.server.server_operation.ServerOperationMixin.associate_eip_address>`\n",
    "\n",
    "注: 该方法是幂等的, 也就是说你连续运行几次跟运行一次的结果是一样的. 并且它有一个 ``allow_reassociation`` 参数可以控制是否自动从别的 EC2 上把这个 EIP 拿过来."
   ]
  },
  {
   "cell_type": "raw",
   "id": "e62d2655-c5aa-4d3a-af25-99e68e3c7b61",
   "metadata": {
    "editable": true,
    "raw_mimetype": "text/restructuredtext",
    "slideshow": {
     "slide_type": ""
    },
    "tags": []
   },
   "source": [
    "更新 RDS Instance 的 Master Password\n",
    "--------------------------------------------------------------------------------\n",
    ":meth:`Server.update_db_master_password <acore_server_metadata.server.server_operation.ServerOperationMixin.update_db_master_password>`\n",
    "\n",
    "注: 该方法会将 DB 转为维护状态, 性能有所下降, 但是依然可以继续提供服务. 当然前提是你的连接没有使用 master password."
   ]
  },
  {
   "cell_type": "raw",
   "id": "68c80576-6fa2-4d6f-98ae-04258a355721",
   "metadata": {
    "editable": true,
    "raw_mimetype": "text/restructuredtext",
    "slideshow": {
     "slide_type": ""
    },
    "tags": []
   },
   "source": [
    "为 RDS Instance 创建一个新的 Snapshot\n",
    "--------------------------------------------------------------------------------\n",
    ":meth:`Server.create_db_snapshot <acore_server_metadata.server.server_operation.ServerOperationMixin.create_db_snapshot>`"
   ]
  },
  {
   "cell_type": "raw",
   "id": "07644f6a-4abd-4451-b863-0d111c1a8c28",
   "metadata": {
    "editable": true,
    "raw_mimetype": "text/restructuredtext",
    "slideshow": {
     "slide_type": ""
    },
    "tags": []
   },
   "source": [
    "删除时间太过久远的 RDS Instance Snapshot\n",
    "--------------------------------------------------------------------------------\n",
    ":meth:`Server.cleanup_db_snapshot <acore_server_metadata.server.server_operation.ServerOperationMixin.cleanup_db_snapshot>`"
   ]
  },
  {
   "cell_type": "code",
   "execution_count": null,
   "id": "d1f0d243-2365-46f0-ba60-839ef352e20b",
   "metadata": {
    "editable": true,
    "slideshow": {
     "slide_type": ""
    },
    "tags": []
   },
   "outputs": [],
   "source": []
  }
 ],
 "metadata": {
  "kernelspec": {
   "display_name": "Python 3 (ipykernel)",
   "language": "python",
   "name": "python3"
  },
  "language_info": {
   "codemirror_mode": {
    "name": "ipython",
    "version": 3
   },
   "file_extension": ".py",
   "mimetype": "text/x-python",
   "name": "python",
   "nbconvert_exporter": "python",
   "pygments_lexer": "ipython3",
   "version": "3.8.13"
  }
 },
 "nbformat": 4,
 "nbformat_minor": 5
}
